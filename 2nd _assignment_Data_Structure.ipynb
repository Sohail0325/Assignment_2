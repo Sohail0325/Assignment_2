{
 "cells": [
  {
   "cell_type": "code",
   "execution_count": 1,
   "id": "9c662c25-fce7-4c2e-88b9-8ba5303145a3",
   "metadata": {},
   "outputs": [
    {
     "data": {
      "text/plain": [
       "'My Name Is Sohail'"
      ]
     },
     "execution_count": 1,
     "metadata": {},
     "output_type": "execute_result"
    }
   ],
   "source": [
    "1.Question\n",
    "#Discuss String slicing provide examples\n",
    "a = \"My Name Is Sohail\"\n",
    "a\n"
   ]
  },
  {
   "cell_type": "code",
   "execution_count": 3,
   "id": "2b7f3a07-f5de-4f05-9960-01b3d07a0ac9",
   "metadata": {},
   "outputs": [
    {
     "data": {
      "text/plain": [
       "'Name'"
      ]
     },
     "execution_count": 3,
     "metadata": {},
     "output_type": "execute_result"
    }
   ],
   "source": [
    "a[3:7]"
   ]
  },
  {
   "cell_type": "code",
   "execution_count": 5,
   "id": "f2b0d4c3-b9d5-46ae-8745-f72ba87350df",
   "metadata": {},
   "outputs": [
    {
     "data": {
      "text/plain": [
       "'Name Is Sohail'"
      ]
     },
     "execution_count": 5,
     "metadata": {},
     "output_type": "execute_result"
    }
   ],
   "source": [
    "a[3:]"
   ]
  },
  {
   "cell_type": "code",
   "execution_count": 6,
   "id": "2818347d-4e6c-4533-944d-b0fe05c27291",
   "metadata": {},
   "outputs": [
    {
     "data": {
      "text/plain": [
       "'My Name Is Sohail'"
      ]
     },
     "execution_count": 6,
     "metadata": {},
     "output_type": "execute_result"
    }
   ],
   "source": [
    "a[:]"
   ]
  },
  {
   "cell_type": "code",
   "execution_count": 7,
   "id": "820f102e-9e55-4463-8e58-ae4e7281e33a",
   "metadata": {},
   "outputs": [],
   "source": [
    "#The above examples shown the slicing of a string"
   ]
  },
  {
   "cell_type": "code",
   "execution_count": 4,
   "id": "94c239ae-95a1-4e18-931e-8535793c6b10",
   "metadata": {},
   "outputs": [
    {
     "data": {
      "text/plain": [
       "[1, 2.34, 'Sohail', True]"
      ]
     },
     "execution_count": 4,
     "metadata": {},
     "output_type": "execute_result"
    }
   ],
   "source": [
    "lists \n",
    "#explain the key features of lists in python.\n",
    "#Elements in a list are stored in a specific order.\n",
    "#You can access elements by their index (starting from 0).\n",
    "#lists are mutable can change the data in the list as required\n",
    "#stored heterogeneous data (int, str, float, boolean. )\n",
    "b = [1, 2.34, \"Sohail\", True,]\n",
    "b"
   ]
  },
  {
   "cell_type": "code",
   "execution_count": 5,
   "id": "732d9f06-bd5b-4727-a88d-8015c9f3c904",
   "metadata": {},
   "outputs": [
    {
     "data": {
      "text/plain": [
       "'Sohail'"
      ]
     },
     "execution_count": 5,
     "metadata": {},
     "output_type": "execute_result"
    }
   ],
   "source": [
    "b[2]"
   ]
  },
  {
   "cell_type": "code",
   "execution_count": 6,
   "id": "69df9274-fdd0-4b1b-9505-1d95a2bc736f",
   "metadata": {},
   "outputs": [],
   "source": [
    "b[2] = \"Aishu\""
   ]
  },
  {
   "cell_type": "code",
   "execution_count": 7,
   "id": "bc28ee26-bb71-4443-917e-efd1140e8219",
   "metadata": {},
   "outputs": [
    {
     "data": {
      "text/plain": [
       "[1, 2.34, 'Aishu', True]"
      ]
     },
     "execution_count": 7,
     "metadata": {},
     "output_type": "execute_result"
    }
   ],
   "source": [
    "b"
   ]
  },
  {
   "cell_type": "code",
   "execution_count": 8,
   "id": "3949120c-de45-4b5c-8d23-df13994e75f8",
   "metadata": {},
   "outputs": [
    {
     "data": {
      "text/plain": [
       "True"
      ]
     },
     "execution_count": 8,
     "metadata": {},
     "output_type": "execute_result"
    }
   ],
   "source": [
    "b[-1]"
   ]
  },
  {
   "cell_type": "code",
   "execution_count": 10,
   "id": "d7d64e05-9cea-48d4-8390-5c7c11ff6329",
   "metadata": {},
   "outputs": [
    {
     "data": {
      "text/plain": [
       "list"
      ]
     },
     "execution_count": 10,
     "metadata": {},
     "output_type": "execute_result"
    }
   ],
   "source": [
    "type(b)"
   ]
  },
  {
   "cell_type": "code",
   "execution_count": 27,
   "id": "287d45f2-e8a2-4478-a7fb-92702db80f27",
   "metadata": {},
   "outputs": [
    {
     "data": {
      "text/plain": [
       "[24, 56.0, 'water', True, 'iam learning data science with AI', 325]"
      ]
     },
     "execution_count": 27,
     "metadata": {},
     "output_type": "execute_result"
    }
   ],
   "source": [
    "# Describe how to access modify and delete elements on a list with examples\n",
    "#lists are mutable\n",
    "#we can change the elements in a list as you required\n",
    "#here the example to modify and delete the elements in a list\n",
    "cont_list = [24, 56.0 , \"water\", True, \"iam learning data science with AI\",  325]\n",
    "cont_list"
   ]
  },
  {
   "cell_type": "code",
   "execution_count": 28,
   "id": "5dc7a876-f0ee-46a5-a3c6-2b84210d5bc1",
   "metadata": {},
   "outputs": [],
   "source": [
    "cont_list.append(\"Ram\")"
   ]
  },
  {
   "cell_type": "code",
   "execution_count": 29,
   "id": "abe1c019-36a6-4a92-bd80-e13c8edef202",
   "metadata": {},
   "outputs": [
    {
     "data": {
      "text/plain": [
       "[24, 56.0, 'water', True, 'iam learning data science with AI', 325, 'Ram']"
      ]
     },
     "execution_count": 29,
     "metadata": {},
     "output_type": "execute_result"
    }
   ],
   "source": [
    "cont_list"
   ]
  },
  {
   "cell_type": "code",
   "execution_count": 30,
   "id": "232c36fe-1cb4-4209-ac21-1c578fadb16e",
   "metadata": {},
   "outputs": [],
   "source": [
    "cont_list.remove(\"Ram\")"
   ]
  },
  {
   "cell_type": "code",
   "execution_count": 31,
   "id": "21ba36a4-4417-44dd-9fb0-d11f5688ea4e",
   "metadata": {},
   "outputs": [
    {
     "data": {
      "text/plain": [
       "[24, 56.0, 'water', True, 'iam learning data science with AI', 325]"
      ]
     },
     "execution_count": 31,
     "metadata": {},
     "output_type": "execute_result"
    }
   ],
   "source": [
    "cont_list"
   ]
  },
  {
   "cell_type": "code",
   "execution_count": 32,
   "id": "5da70364-b65b-46e7-947f-ea75de9d50dc",
   "metadata": {},
   "outputs": [],
   "source": [
    "#here the above example shown the modification and add, remove elements from lists"
   ]
  },
  {
   "cell_type": "code",
   "execution_count": null,
   "id": "551b4f87-84db-4b11-8332-41d4a90e8ad3",
   "metadata": {},
   "outputs": [],
   "source": [
    "4.Compare and contrast tuples and lists with examples.\n",
    "#Tuples\n",
    "*Tuples are immutable \n",
    "*In tuples we use paranthasis\n",
    "*IT stores the heterogeneous data"
   ]
  },
  {
   "cell_type": "code",
   "execution_count": 37,
   "id": "d430adb1-d745-4bb3-bf08-5afc35bfcea9",
   "metadata": {},
   "outputs": [
    {
     "data": {
      "text/plain": [
       "(1, 2.3, 'Pwskills')"
      ]
     },
     "execution_count": 37,
     "metadata": {},
     "output_type": "execute_result"
    }
   ],
   "source": [
    "tuple_list = (1,2.3, \"Pwskills\")\n",
    "tuple_list"
   ]
  },
  {
   "cell_type": "code",
   "execution_count": 45,
   "id": "369fc907-5536-4be4-b0d7-1e1845b06324",
   "metadata": {},
   "outputs": [
    {
     "data": {
      "text/plain": [
       "tuple"
      ]
     },
     "execution_count": 45,
     "metadata": {},
     "output_type": "execute_result"
    }
   ],
   "source": [
    "type(tuple_list)"
   ]
  },
  {
   "cell_type": "code",
   "execution_count": 47,
   "id": "985ec3a7-9cb1-4c5b-8609-ce8d40e68101",
   "metadata": {},
   "outputs": [
    {
     "data": {
      "text/plain": [
       "'Pwskills'"
      ]
     },
     "execution_count": 47,
     "metadata": {},
     "output_type": "execute_result"
    }
   ],
   "source": [
    "tuple_list[2]"
   ]
  },
  {
   "cell_type": "code",
   "execution_count": 46,
   "id": "df61b2f0-b006-42b9-b38d-b0b9a2c76087",
   "metadata": {},
   "outputs": [
    {
     "data": {
      "text/plain": [
       "[1, 2.3, 'Pwskills']"
      ]
     },
     "execution_count": 46,
     "metadata": {},
     "output_type": "execute_result"
    }
   ],
   "source": [
    "lists_lis = [1, 2.3, \"Pwskills\"]\n",
    "lists_lis"
   ]
  },
  {
   "cell_type": "code",
   "execution_count": 51,
   "id": "4ad03519-6d44-4506-a287-3d3b7eeac78e",
   "metadata": {},
   "outputs": [
    {
     "data": {
      "text/plain": [
       "'Pwskills'"
      ]
     },
     "execution_count": 51,
     "metadata": {},
     "output_type": "execute_result"
    }
   ],
   "source": [
    "lists_lis[2]"
   ]
  },
  {
   "cell_type": "code",
   "execution_count": null,
   "id": "03ea4366-147c-4da6-80be-f26a1988d468",
   "metadata": {},
   "outputs": [],
   "source": [
    "5.Discribes the key features of sets and provide examples of there uses.\n",
    "#sets \n",
    "*sets are unorderd collection of uniqe element.\n",
    "*By using the flower brackets we represent the sets\n",
    "*sets are mutable\n",
    "* we can not access the elements in the sets"
   ]
  },
  {
   "cell_type": "code",
   "execution_count": 52,
   "id": "ed94c3b3-a170-4572-a679-891ea9a9ce08",
   "metadata": {},
   "outputs": [],
   "source": [
    "s = {\"apple\", \"banana\", \"carrot\"}"
   ]
  },
  {
   "cell_type": "code",
   "execution_count": 53,
   "id": "68be6a79-4cb6-45d8-8bfc-0e446c7e347a",
   "metadata": {},
   "outputs": [
    {
     "data": {
      "text/plain": [
       "{'apple', 'banana', 'carrot'}"
      ]
     },
     "execution_count": 53,
     "metadata": {},
     "output_type": "execute_result"
    }
   ],
   "source": [
    "s"
   ]
  },
  {
   "cell_type": "code",
   "execution_count": 54,
   "id": "d633bbc9-1fa8-4054-a958-b511df1af68e",
   "metadata": {},
   "outputs": [
    {
     "data": {
      "text/plain": [
       "set"
      ]
     },
     "execution_count": 54,
     "metadata": {},
     "output_type": "execute_result"
    }
   ],
   "source": [
    "type(s)"
   ]
  },
  {
   "cell_type": "code",
   "execution_count": 55,
   "id": "8f016ce5-76b2-4860-915c-d130f18c7106",
   "metadata": {},
   "outputs": [],
   "source": [
    "s.add(\"Kiwi\")"
   ]
  },
  {
   "cell_type": "code",
   "execution_count": 56,
   "id": "620ccdb4-5908-4173-98e9-27ec8cb26df6",
   "metadata": {},
   "outputs": [
    {
     "data": {
      "text/plain": [
       "{'Kiwi', 'apple', 'banana', 'carrot'}"
      ]
     },
     "execution_count": 56,
     "metadata": {},
     "output_type": "execute_result"
    }
   ],
   "source": [
    "s"
   ]
  },
  {
   "cell_type": "code",
   "execution_count": 57,
   "id": "c69c0ed4-ab9f-450e-ab5f-0d3e17f8a8b5",
   "metadata": {},
   "outputs": [
    {
     "data": {
      "text/plain": [
       "{'Kiwi', 'banana', 'carrot'}"
      ]
     },
     "execution_count": 57,
     "metadata": {},
     "output_type": "execute_result"
    }
   ],
   "source": [
    "s.remove(\"apple\")\n",
    "s"
   ]
  },
  {
   "cell_type": "code",
   "execution_count": 59,
   "id": "c5e5982b-4e75-4c60-9439-fb66e80469da",
   "metadata": {},
   "outputs": [
    {
     "data": {
      "text/plain": [
       "<function set.update>"
      ]
     },
     "execution_count": 59,
     "metadata": {},
     "output_type": "execute_result"
    }
   ],
   "source": [
    "s.update"
   ]
  },
  {
   "cell_type": "code",
   "execution_count": 61,
   "id": "2ef63ae7-c3f4-4a2b-8ae7-5bb486ddffd9",
   "metadata": {},
   "outputs": [
    {
     "data": {
      "text/plain": [
       "tuple"
      ]
     },
     "execution_count": 61,
     "metadata": {},
     "output_type": "execute_result"
    }
   ],
   "source": [
    "#6.Discuss the uses of tuples and sets in python programming.\n",
    "t=(91,2.5,'come','go')\n",
    "type(t)"
   ]
  },
  {
   "cell_type": "code",
   "execution_count": 62,
   "id": "e799fb3b-6286-46f2-ac68-1b4bb5fd2f92",
   "metadata": {},
   "outputs": [],
   "source": [
    "#tuples are immutable\n",
    "#it stores heterogeneous data"
   ]
  },
  {
   "cell_type": "code",
   "execution_count": 63,
   "id": "f93d7973-918c-4162-a7ae-6856d7fcba36",
   "metadata": {},
   "outputs": [
    {
     "data": {
      "text/plain": [
       "{'Subbu', 'sathish', 'sohail'}"
      ]
     },
     "execution_count": 63,
     "metadata": {},
     "output_type": "execute_result"
    }
   ],
   "source": [
    "#sets are mutable \n",
    "#we can change data in sets and modify\n",
    "d = {\"sathish\", \"sohail\", \"Subbu\"}\n",
    "d"
   ]
  },
  {
   "cell_type": "code",
   "execution_count": 64,
   "id": "2bc2341e-98e5-4f06-8844-154be12f983f",
   "metadata": {},
   "outputs": [],
   "source": [
    "d.add(\"Aishu\")"
   ]
  },
  {
   "cell_type": "code",
   "execution_count": 65,
   "id": "3404979b-3dc3-4519-a8c9-6079acb6f5c9",
   "metadata": {},
   "outputs": [
    {
     "data": {
      "text/plain": [
       "{'Aishu', 'Subbu', 'sathish', 'sohail'}"
      ]
     },
     "execution_count": 65,
     "metadata": {},
     "output_type": "execute_result"
    }
   ],
   "source": [
    "d"
   ]
  },
  {
   "cell_type": "code",
   "execution_count": 68,
   "id": "263e8431-5fed-4c2e-9bc9-081a012ea4b3",
   "metadata": {},
   "outputs": [],
   "source": [
    "d.remove(\"Aishu\")"
   ]
  },
  {
   "cell_type": "code",
   "execution_count": 69,
   "id": "18d143bb-96e5-4bc0-b8ac-b25357f8fcc4",
   "metadata": {},
   "outputs": [
    {
     "data": {
      "text/plain": [
       "{'Subbu', 'sathish', 'sohail'}"
      ]
     },
     "execution_count": 69,
     "metadata": {},
     "output_type": "execute_result"
    }
   ],
   "source": [
    "d"
   ]
  },
  {
   "cell_type": "code",
   "execution_count": 70,
   "id": "88270401-1542-43ee-a198-3310b43a1e93",
   "metadata": {},
   "outputs": [],
   "source": [
    "#7.Dicscribe how to add,modify,and delete items in dictionary with examples.\n",
    "#dictionary stores the data as a key value data\n",
    "my_details = {\"Name\":\"Sohail\", \"phone number\":\"9491118818\"}"
   ]
  },
  {
   "cell_type": "code",
   "execution_count": 76,
   "id": "fdcabbba-bd89-479f-b7a9-f44c59d9053b",
   "metadata": {},
   "outputs": [
    {
     "data": {
      "text/plain": [
       "{'Name': 'Sohail', 'phone number': '9491118818', 'name': 'Khaja'}"
      ]
     },
     "execution_count": 76,
     "metadata": {},
     "output_type": "execute_result"
    }
   ],
   "source": [
    "my_details"
   ]
  },
  {
   "cell_type": "code",
   "execution_count": 80,
   "id": "e3650f86-575d-4478-af3d-2d4aeb055b10",
   "metadata": {},
   "outputs": [
    {
     "data": {
      "text/plain": [
       "{'Name': 'Khaja', 'phone number': '9491118818', 'name': 'Khaja'}"
      ]
     },
     "execution_count": 80,
     "metadata": {},
     "output_type": "execute_result"
    }
   ],
   "source": [
    "my_details['Name'] ='Khaja'\n",
    "my_details"
   ]
  },
  {
   "cell_type": "code",
   "execution_count": 81,
   "id": "b78beab5-6d5e-47a1-8515-eed3f677d3e9",
   "metadata": {},
   "outputs": [
    {
     "name": "stdout",
     "output_type": "stream",
     "text": [
      "{'name': 'Alice', 'age': 31}\n"
     ]
    },
    {
     "data": {
      "text/plain": [
       "{'name': 'Alice', 'age': 31}"
      ]
     },
     "execution_count": 81,
     "metadata": {},
     "output_type": "execute_result"
    }
   ],
   "source": [
    "#Delete\n",
    "del my_dict['city']\n",
    "print(my_dict)\n",
    "{'name': 'Alice', 'age': 31}\n"
   ]
  },
  {
   "cell_type": "code",
   "execution_count": 84,
   "id": "d0943daa-3a2b-4704-8f11-11dfe48960a3",
   "metadata": {},
   "outputs": [
    {
     "name": "stdout",
     "output_type": "stream",
     "text": [
      "Alice\n",
      "{'name': 'Alice', 'age': 31, 'city': 'New York'}\n"
     ]
    }
   ],
   "source": [
    "#modify\n",
    "my_dict = {'name': 'Alice', 'age': 30, 'city': 'New York'}\n",
    "\n",
    "name = my_dict['name']\n",
    "print(name)\n",
    "my_dict['age'] = 31\n",
    "print(my_dict) "
   ]
  },
  {
   "cell_type": "code",
   "execution_count": 85,
   "id": "583558be-1936-4b5b-8433-05b5eded9cce",
   "metadata": {},
   "outputs": [
    {
     "name": "stdout",
     "output_type": "stream",
     "text": [
      "{'name': 'Alice', 'age': 31}\n"
     ]
    }
   ],
   "source": [
    "del my_dict['city']\n",
    "print(my_dict)"
   ]
  },
  {
   "cell_type": "code",
   "execution_count": 86,
   "id": "5d22d600-2b19-4811-a8fd-868337ad3c34",
   "metadata": {},
   "outputs": [
    {
     "name": "stdout",
     "output_type": "stream",
     "text": [
      "Alice\n",
      "Bob\n",
      "Charlie\n"
     ]
    }
   ],
   "source": [
    "#dictionary keys are immutable we can not change\n",
    "#the use case are atm,bank,roll calls etc..\n",
    "my_dict = {\n",
    "    \"name\": \"Alice\",\n",
    "    123: \"Bob\",\n",
    "    (1, 2): \"Charlie\"\n",
    "}\n",
    "print(my_dict[\"name\"])\n",
    "print(my_dict[123])  \n",
    "print(my_dict[(1, 2)])"
   ]
  },
  {
   "cell_type": "code",
   "execution_count": null,
   "id": "7610c43a-11a1-4703-a3e7-5c1d5cbb1ef3",
   "metadata": {},
   "outputs": [],
   "source": []
  }
 ],
 "metadata": {
  "kernelspec": {
   "display_name": "Python 3 (ipykernel)",
   "language": "python",
   "name": "python3"
  },
  "language_info": {
   "codemirror_mode": {
    "name": "ipython",
    "version": 3
   },
   "file_extension": ".py",
   "mimetype": "text/x-python",
   "name": "python",
   "nbconvert_exporter": "python",
   "pygments_lexer": "ipython3",
   "version": "3.10.8"
  }
 },
 "nbformat": 4,
 "nbformat_minor": 5
}
